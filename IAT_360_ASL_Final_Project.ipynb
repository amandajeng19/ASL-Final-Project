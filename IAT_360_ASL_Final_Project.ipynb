{
  "nbformat": 4,
  "nbformat_minor": 0,
  "metadata": {
    "colab": {
      "provenance": [],
      "authorship_tag": "ABX9TyMEfUzhKpGu5wAlirkFdsJ4",
      "include_colab_link": true
    },
    "kernelspec": {
      "name": "python3",
      "display_name": "Python 3"
    },
    "language_info": {
      "name": "python"
    }
  },
  "cells": [
    {
      "cell_type": "markdown",
      "metadata": {
        "id": "view-in-github",
        "colab_type": "text"
      },
      "source": [
        "<a href=\"https://colab.research.google.com/github/amandajeng19/ASL-Final-Project/blob/main/IAT_360_ASL_Final_Project.ipynb\" target=\"_parent\"><img src=\"https://colab.research.google.com/assets/colab-badge.svg\" alt=\"Open In Colab\"/></a>"
      ]
    },
    {
      "cell_type": "markdown",
      "source": [
        "# IAT 360 ASL Final Project"
      ],
      "metadata": {
        "id": "H7ObncR4MWYV"
      }
    },
    {
      "cell_type": "markdown",
      "source": [
        "## Import Libraries"
      ],
      "metadata": {
        "id": "dUEbBtbHMhtw"
      }
    },
    {
      "cell_type": "code",
      "source": [
        "import numpy as np # linear algebra\n",
        "import pandas as pd # data processing, CSV file I/O (e.g. pd.read_csv)\n",
        "import matplotlib.pyplot as plt\n",
        "import tensorflow as tf\n",
        "from tensorflow import keras\n",
        "import cv2\n",
        "import seaborn as sns\n",
        "import glob\n",
        "import xml.etree.ElementTree as ET\n",
        "from PIL import Image\n",
        "import os\n",
        "import shutil"
      ],
      "metadata": {
        "id": "DABVtPM9MbMZ"
      },
      "execution_count": null,
      "outputs": []
    },
    {
      "cell_type": "code",
      "source": [
        "!pip install ultralytics"
      ],
      "metadata": {
        "id": "0b0E3r4AMkbh"
      },
      "execution_count": null,
      "outputs": []
    },
    {
      "cell_type": "code",
      "source": [
        "import ultralytics\n",
        "from ultralytics import YOLO"
      ],
      "metadata": {
        "id": "WUrpo8WXMm0u"
      },
      "execution_count": null,
      "outputs": []
    },
    {
      "cell_type": "code",
      "source": [
        "from google.colab import drive\n",
        "drive.mount('/content/drive')"
      ],
      "metadata": {
        "id": "DOl7iM1qMo-T"
      },
      "execution_count": null,
      "outputs": []
    },
    {
      "cell_type": "markdown",
      "source": [
        "## Model Training"
      ],
      "metadata": {
        "id": "LrcMATvgMrG8"
      }
    },
    {
      "cell_type": "code",
      "source": [
        "model = YOLO('yolov8s.pt') # pretrained model"
      ],
      "metadata": {
        "id": "-BBfrIiUMstR"
      },
      "execution_count": null,
      "outputs": []
    },
    {
      "cell_type": "code",
      "source": [
        "%%writefile config.yaml\n",
        "path: /content/drive/MyDrive/IAT 360/IAT 360 Final Project/images # dataset root dir\n",
        "#\n",
        "train: /content/drive/MyDrive/IAT 360/IAT 360 Final Project/images/train\n",
        "#test: (test dataset folder path)\n",
        "val: /content/drive/MyDrive/IAT 360/IAT 360 Final Project/images/val\n",
        "\n",
        "# Classes\n",
        "nc: 26 #  number of classes\n",
        "\n",
        "# Class names\n",
        "names:\n",
        "  0: A\n",
        "  1: B\n",
        "  2: C\n",
        "  3: D\n",
        "  4: E\n",
        "  5: F\n",
        "  6: G\n",
        "  7: H\n",
        "  8: I\n",
        "  9: J\n",
        "  10: K\n",
        "  11: L\n",
        "  12: M\n",
        "  13: N\n",
        "  14: O\n",
        "  15: P\n",
        "  16: Q\n",
        "  17: R\n",
        "  18: S\n",
        "  19: T\n",
        "  20: U\n",
        "  21: V\n",
        "  22: W\n",
        "  23: X\n",
        "  24: Y\n",
        "  25: Z"
      ],
      "metadata": {
        "id": "FGSolcZUMycO"
      },
      "execution_count": null,
      "outputs": []
    },
    {
      "cell_type": "code",
      "source": [
        "model.train(data=\"config.yaml\",epochs=10,patience=3,batch=8, lr0=0.01,imgsz=640) # Train the model"
      ],
      "metadata": {
        "id": "lf-6C05XM-J6"
      },
      "execution_count": null,
      "outputs": []
    },
    {
      "cell_type": "code",
      "source": [
        "%matplotlib inline\n",
        "from PIL import Image\n",
        "##\n",
        "Image.open('/content/runs/detect/train/confusion_matrix_normalized.png')"
      ],
      "metadata": {
        "id": "bW_h8ZDhNKM0"
      },
      "execution_count": null,
      "outputs": []
    }
  ]
}